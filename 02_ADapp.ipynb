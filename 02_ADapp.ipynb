{
  "cells": [
    {
      "cell_type": "markdown",
      "source": [
        "## Turning Your Model into an Online Application"
      ],
      "metadata": {
        "id": "yI8dDaGF2Xex"
      }
    },
    {
      "cell_type": "markdown",
      "source": [
        "Now we have our parameters and model architecture, we can create an Online Application where someone can upload an MR image to see whether the scan might be of someone with Alzheimer's Disease. A task that should be left to doctors, but its fun to experiment with.."
      ],
      "metadata": {
        "id": "PpwVG6HZ2gZN"
      }
    },
    {
      "cell_type": "code",
      "execution_count": 17,
      "metadata": {
        "id": "2sFjyG3jubFu"
      },
      "outputs": [],
      "source": [
        "%%capture\n",
        "# hide\n",
        "! [ -e /content ] && pip install -Uqq fastbook\n",
        "import fastbook\n",
        "fastbook.setup_book()\n",
        "\n",
        "#hide\n",
        "from fastbook import *\n",
        "from fastai.vision.widgets import *\n",
        "\n",
        "!pip install voila\n",
        "!jupyter serverextension enable --sys-prefix voila"
      ]
    },
    {
      "cell_type": "code",
      "source": [
        "installed_packages = pkg_resources.working_set\n",
        "installed_packages_list = sorted([\"{}=={}\".format(i.key, i.version) for i in installed_packages])\n",
        "\n",
        "# Convert the list to a DataFrame for better formatting\n",
        "packages_df = pd.DataFrame(installed_packages_list, columns=['Package'])\n",
        "\n",
        "# Print the DataFrame\n",
        "#packages_df.to_csv('/content/gdrive/MyDrive/FastAI/requirements.txt', index=0)"
      ],
      "metadata": {
        "id": "Nj3FPiHl5eo2"
      },
      "execution_count": 4,
      "outputs": []
    },
    {
      "cell_type": "markdown",
      "metadata": {
        "id": "ZPfLjfLaubGF"
      },
      "source": [
        "### Creating a Notebook App from the Model"
      ]
    },
    {
      "cell_type": "markdown",
      "source": [
        "We are going to build our web app within this Jupyter Notebook!"
      ],
      "metadata": {
        "id": "hqsOE2PD7kEb"
      }
    },
    {
      "cell_type": "code",
      "source": [
        "# Load in our AD MRI Learner\n",
        "learn_inf = load_learner('/content/gdrive/MyDrive/FastAI/AD-learner.pkl')\n",
        "\n",
        "# Initialize our 'Upload' and 'Classify' buttons\n",
        "btn_upload = widgets.FileUpload()\n",
        "btn_run = widgets.Button(description='Classify')\n",
        "out_pl = widgets.Output()\n",
        "lbl_pred = widgets.Label()\n",
        "\n",
        "# Here is our event handler; a function that will be called\n",
        "# when it's pressed, allowing us to upload a button and classify it\n",
        "def on_click_classify(change):\n",
        "    img = PILImage.create(btn_upload.data[-1])\n",
        "    out_pl.clear_output()\n",
        "    with out_pl: display(img.to_thumb(128,128))\n",
        "    pred,pred_idx,probs = learn_inf.predict(img)\n",
        "    lbl_pred.value = f'Prediction: {pred}; Probability: {probs[pred_idx]:.04f}'\n",
        "\n",
        "btn_run.on_click(on_click_classify)\n",
        "\n",
        "# Putting back btn_upload to a widget for next cell\n",
        "btn_upload = widgets.FileUpload()\n",
        "\n",
        "# VBox It\n",
        "VBox([widgets.Label('Upload your brain!'),\n",
        "      btn_upload, btn_run, out_pl, lbl_pred])"
      ],
      "metadata": {
        "colab": {
          "base_uri": "https://localhost:8080/",
          "height": 257,
          "referenced_widgets": [
            "b9259adb93c64fbfb4df762e02ea821f",
            "cc855579c3ba4334a4d6f0003057854a",
            "58d12e245e9a4f6ab802e618bf626185",
            "c94522441a1c4a3c8b1332a212e31816",
            "776dc24f9fa44efeba2c8b689edcd9bb",
            "27b252184852437d9889cca9720351b2",
            "7e50459692c54141900b46ae7a2cb44c",
            "f759f4cf8cc3449b80c430901fa4e36b",
            "0e84759ba4174fabb41e561ccb5a5c4d",
            "4010d1b643b14271b99d218febcaa7cc",
            "7ef3d2898d3c4a84804d8e439c2e68e0",
            "9a7a71452131466d8c839f1c8b7b3213",
            "c03a61f70bc64c3195f24081ffcceebf",
            "cc959674345e4549921859be744abde5",
            "1c449f9b812349af9464d3158c41dcf0",
            "e7383e8cc4c7460a86de8e1c658db04b"
          ]
        },
        "id": "NB5NcUE5C6Gs",
        "outputId": "d9f07f13-bd36-4697-c066-0bf7ba73b156"
      },
      "execution_count": 19,
      "outputs": [
        {
          "output_type": "display_data",
          "data": {
            "text/plain": [
              "VBox(children=(Label(value='Upload your brain!'), FileUpload(value={}, description='Upload'), Button(descripti…"
            ],
            "application/vnd.jupyter.widget-view+json": {
              "version_major": 2,
              "version_minor": 0,
              "model_id": "b9259adb93c64fbfb4df762e02ea821f"
            }
          },
          "metadata": {}
        },
        {
          "output_type": "display_data",
          "data": {
            "text/plain": [
              "<IPython.core.display.HTML object>"
            ],
            "text/html": [
              "\n",
              "<style>\n",
              "    /* Turns off some styling */\n",
              "    progress {\n",
              "        /* gets rid of default border in Firefox and Opera. */\n",
              "        border: none;\n",
              "        /* Needs to be in here for Safari polyfill so background images work as expected. */\n",
              "        background-size: auto;\n",
              "    }\n",
              "    progress:not([value]), progress:not([value])::-webkit-progress-bar {\n",
              "        background: repeating-linear-gradient(45deg, #7e7e7e, #7e7e7e 10px, #5c5c5c 10px, #5c5c5c 20px);\n",
              "    }\n",
              "    .progress-bar-interrupted, .progress-bar-interrupted::-webkit-progress-bar {\n",
              "        background: #F44336;\n",
              "    }\n",
              "</style>\n"
            ]
          },
          "metadata": {}
        },
        {
          "output_type": "display_data",
          "data": {
            "text/plain": [
              "<IPython.core.display.HTML object>"
            ],
            "text/html": []
          },
          "metadata": {}
        }
      ]
    }
  ],
  "metadata": {
    "jupytext": {
      "split_at_heading": true
    },
    "kernelspec": {
      "display_name": "Python 3",
      "language": "python",
      "name": "python3"
    },
    "colab": {
      "provenance": []
    },
    "widgets": {
      "application/vnd.jupyter.widget-state+json": {
        "b9259adb93c64fbfb4df762e02ea821f": {
          "model_module": "@jupyter-widgets/controls",
          "model_name": "VBoxModel",
          "model_module_version": "1.5.0",
          "state": {
            "_dom_classes": [],
            "_model_module": "@jupyter-widgets/controls",
            "_model_module_version": "1.5.0",
            "_model_name": "VBoxModel",
            "_view_count": null,
            "_view_module": "@jupyter-widgets/controls",
            "_view_module_version": "1.5.0",
            "_view_name": "VBoxView",
            "box_style": "",
            "children": [
              "IPY_MODEL_cc855579c3ba4334a4d6f0003057854a",
              "IPY_MODEL_58d12e245e9a4f6ab802e618bf626185",
              "IPY_MODEL_c94522441a1c4a3c8b1332a212e31816",
              "IPY_MODEL_776dc24f9fa44efeba2c8b689edcd9bb",
              "IPY_MODEL_27b252184852437d9889cca9720351b2"
            ],
            "layout": "IPY_MODEL_7e50459692c54141900b46ae7a2cb44c"
          }
        },
        "cc855579c3ba4334a4d6f0003057854a": {
          "model_module": "@jupyter-widgets/controls",
          "model_name": "LabelModel",
          "model_module_version": "1.5.0",
          "state": {
            "_dom_classes": [],
            "_model_module": "@jupyter-widgets/controls",
            "_model_module_version": "1.5.0",
            "_model_name": "LabelModel",
            "_view_count": null,
            "_view_module": "@jupyter-widgets/controls",
            "_view_module_version": "1.5.0",
            "_view_name": "LabelView",
            "description": "",
            "description_tooltip": null,
            "layout": "IPY_MODEL_f759f4cf8cc3449b80c430901fa4e36b",
            "placeholder": "​",
            "style": "IPY_MODEL_0e84759ba4174fabb41e561ccb5a5c4d",
            "value": "Upload your brain!"
          }
        },
        "58d12e245e9a4f6ab802e618bf626185": {
          "model_module": "@jupyter-widgets/controls",
          "model_name": "FileUploadModel",
          "model_module_version": "1.5.0",
          "state": {
            "_counter": 1,
            "_dom_classes": [],
            "_model_module": "@jupyter-widgets/controls",
            "_model_module_version": "1.5.0",
            "_model_name": "FileUploadModel",
            "_view_count": null,
            "_view_module": "@jupyter-widgets/controls",
            "_view_module_version": "1.5.0",
            "_view_name": "FileUploadView",
            "accept": "",
            "button_style": "",
            "data": [
              null
            ],
            "description": "Upload",
            "description_tooltip": null,
            "disabled": false,
            "error": "",
            "icon": "upload",
            "layout": "IPY_MODEL_4010d1b643b14271b99d218febcaa7cc",
            "metadata": [
              {
                "name": "validate_mri.png",
                "type": "image/png",
                "size": 727616,
                "lastModified": 1707252654000
              }
            ],
            "multiple": false,
            "style": "IPY_MODEL_7ef3d2898d3c4a84804d8e439c2e68e0"
          }
        },
        "c94522441a1c4a3c8b1332a212e31816": {
          "model_module": "@jupyter-widgets/controls",
          "model_name": "ButtonModel",
          "model_module_version": "1.5.0",
          "state": {
            "_dom_classes": [],
            "_model_module": "@jupyter-widgets/controls",
            "_model_module_version": "1.5.0",
            "_model_name": "ButtonModel",
            "_view_count": null,
            "_view_module": "@jupyter-widgets/controls",
            "_view_module_version": "1.5.0",
            "_view_name": "ButtonView",
            "button_style": "",
            "description": "Classify",
            "disabled": false,
            "icon": "",
            "layout": "IPY_MODEL_9a7a71452131466d8c839f1c8b7b3213",
            "style": "IPY_MODEL_c03a61f70bc64c3195f24081ffcceebf",
            "tooltip": ""
          }
        },
        "776dc24f9fa44efeba2c8b689edcd9bb": {
          "model_module": "@jupyter-widgets/output",
          "model_name": "OutputModel",
          "model_module_version": "1.0.0",
          "state": {
            "_dom_classes": [],
            "_model_module": "@jupyter-widgets/output",
            "_model_module_version": "1.0.0",
            "_model_name": "OutputModel",
            "_view_count": null,
            "_view_module": "@jupyter-widgets/output",
            "_view_module_version": "1.0.0",
            "_view_name": "OutputView",
            "layout": "IPY_MODEL_e7383e8cc4c7460a86de8e1c658db04b",
            "msg_id": "",
            "outputs": [
              {
                "output_type": "display_data",
                "data": {
                  "text/plain": "<PIL.Image.Image image mode=RGB size=128x112>",
                  "image/png": "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\n"
                },
                "metadata": {}
              }
            ]
          }
        },
        "27b252184852437d9889cca9720351b2": {
          "model_module": "@jupyter-widgets/controls",
          "model_name": "LabelModel",
          "model_module_version": "1.5.0",
          "state": {
            "_dom_classes": [],
            "_model_module": "@jupyter-widgets/controls",
            "_model_module_version": "1.5.0",
            "_model_name": "LabelModel",
            "_view_count": null,
            "_view_module": "@jupyter-widgets/controls",
            "_view_module_version": "1.5.0",
            "_view_name": "LabelView",
            "description": "",
            "description_tooltip": null,
            "layout": "IPY_MODEL_cc959674345e4549921859be744abde5",
            "placeholder": "​",
            "style": "IPY_MODEL_1c449f9b812349af9464d3158c41dcf0",
            "value": "Prediction: AD; Probability: 0.9972"
          }
        },
        "7e50459692c54141900b46ae7a2cb44c": {
          "model_module": "@jupyter-widgets/base",
          "model_name": "LayoutModel",
          "model_module_version": "1.2.0",
          "state": {
            "_model_module": "@jupyter-widgets/base",
            "_model_module_version": "1.2.0",
            "_model_name": "LayoutModel",
            "_view_count": null,
            "_view_module": "@jupyter-widgets/base",
            "_view_module_version": "1.2.0",
            "_view_name": "LayoutView",
            "align_content": null,
            "align_items": null,
            "align_self": null,
            "border": null,
            "bottom": null,
            "display": null,
            "flex": null,
            "flex_flow": null,
            "grid_area": null,
            "grid_auto_columns": null,
            "grid_auto_flow": null,
            "grid_auto_rows": null,
            "grid_column": null,
            "grid_gap": null,
            "grid_row": null,
            "grid_template_areas": null,
            "grid_template_columns": null,
            "grid_template_rows": null,
            "height": null,
            "justify_content": null,
            "justify_items": null,
            "left": null,
            "margin": null,
            "max_height": null,
            "max_width": null,
            "min_height": null,
            "min_width": null,
            "object_fit": null,
            "object_position": null,
            "order": null,
            "overflow": null,
            "overflow_x": null,
            "overflow_y": null,
            "padding": null,
            "right": null,
            "top": null,
            "visibility": null,
            "width": null
          }
        },
        "f759f4cf8cc3449b80c430901fa4e36b": {
          "model_module": "@jupyter-widgets/base",
          "model_name": "LayoutModel",
          "model_module_version": "1.2.0",
          "state": {
            "_model_module": "@jupyter-widgets/base",
            "_model_module_version": "1.2.0",
            "_model_name": "LayoutModel",
            "_view_count": null,
            "_view_module": "@jupyter-widgets/base",
            "_view_module_version": "1.2.0",
            "_view_name": "LayoutView",
            "align_content": null,
            "align_items": null,
            "align_self": null,
            "border": null,
            "bottom": null,
            "display": null,
            "flex": null,
            "flex_flow": null,
            "grid_area": null,
            "grid_auto_columns": null,
            "grid_auto_flow": null,
            "grid_auto_rows": null,
            "grid_column": null,
            "grid_gap": null,
            "grid_row": null,
            "grid_template_areas": null,
            "grid_template_columns": null,
            "grid_template_rows": null,
            "height": null,
            "justify_content": null,
            "justify_items": null,
            "left": null,
            "margin": null,
            "max_height": null,
            "max_width": null,
            "min_height": null,
            "min_width": null,
            "object_fit": null,
            "object_position": null,
            "order": null,
            "overflow": null,
            "overflow_x": null,
            "overflow_y": null,
            "padding": null,
            "right": null,
            "top": null,
            "visibility": null,
            "width": null
          }
        },
        "0e84759ba4174fabb41e561ccb5a5c4d": {
          "model_module": "@jupyter-widgets/controls",
          "model_name": "DescriptionStyleModel",
          "model_module_version": "1.5.0",
          "state": {
            "_model_module": "@jupyter-widgets/controls",
            "_model_module_version": "1.5.0",
            "_model_name": "DescriptionStyleModel",
            "_view_count": null,
            "_view_module": "@jupyter-widgets/base",
            "_view_module_version": "1.2.0",
            "_view_name": "StyleView",
            "description_width": ""
          }
        },
        "4010d1b643b14271b99d218febcaa7cc": {
          "model_module": "@jupyter-widgets/base",
          "model_name": "LayoutModel",
          "model_module_version": "1.2.0",
          "state": {
            "_model_module": "@jupyter-widgets/base",
            "_model_module_version": "1.2.0",
            "_model_name": "LayoutModel",
            "_view_count": null,
            "_view_module": "@jupyter-widgets/base",
            "_view_module_version": "1.2.0",
            "_view_name": "LayoutView",
            "align_content": null,
            "align_items": null,
            "align_self": null,
            "border": null,
            "bottom": null,
            "display": null,
            "flex": null,
            "flex_flow": null,
            "grid_area": null,
            "grid_auto_columns": null,
            "grid_auto_flow": null,
            "grid_auto_rows": null,
            "grid_column": null,
            "grid_gap": null,
            "grid_row": null,
            "grid_template_areas": null,
            "grid_template_columns": null,
            "grid_template_rows": null,
            "height": null,
            "justify_content": null,
            "justify_items": null,
            "left": null,
            "margin": null,
            "max_height": null,
            "max_width": null,
            "min_height": null,
            "min_width": null,
            "object_fit": null,
            "object_position": null,
            "order": null,
            "overflow": null,
            "overflow_x": null,
            "overflow_y": null,
            "padding": null,
            "right": null,
            "top": null,
            "visibility": null,
            "width": null
          }
        },
        "7ef3d2898d3c4a84804d8e439c2e68e0": {
          "model_module": "@jupyter-widgets/controls",
          "model_name": "ButtonStyleModel",
          "model_module_version": "1.5.0",
          "state": {
            "_model_module": "@jupyter-widgets/controls",
            "_model_module_version": "1.5.0",
            "_model_name": "ButtonStyleModel",
            "_view_count": null,
            "_view_module": "@jupyter-widgets/base",
            "_view_module_version": "1.2.0",
            "_view_name": "StyleView",
            "button_color": null,
            "font_weight": ""
          }
        },
        "9a7a71452131466d8c839f1c8b7b3213": {
          "model_module": "@jupyter-widgets/base",
          "model_name": "LayoutModel",
          "model_module_version": "1.2.0",
          "state": {
            "_model_module": "@jupyter-widgets/base",
            "_model_module_version": "1.2.0",
            "_model_name": "LayoutModel",
            "_view_count": null,
            "_view_module": "@jupyter-widgets/base",
            "_view_module_version": "1.2.0",
            "_view_name": "LayoutView",
            "align_content": null,
            "align_items": null,
            "align_self": null,
            "border": null,
            "bottom": null,
            "display": null,
            "flex": null,
            "flex_flow": null,
            "grid_area": null,
            "grid_auto_columns": null,
            "grid_auto_flow": null,
            "grid_auto_rows": null,
            "grid_column": null,
            "grid_gap": null,
            "grid_row": null,
            "grid_template_areas": null,
            "grid_template_columns": null,
            "grid_template_rows": null,
            "height": null,
            "justify_content": null,
            "justify_items": null,
            "left": null,
            "margin": null,
            "max_height": null,
            "max_width": null,
            "min_height": null,
            "min_width": null,
            "object_fit": null,
            "object_position": null,
            "order": null,
            "overflow": null,
            "overflow_x": null,
            "overflow_y": null,
            "padding": null,
            "right": null,
            "top": null,
            "visibility": null,
            "width": null
          }
        },
        "c03a61f70bc64c3195f24081ffcceebf": {
          "model_module": "@jupyter-widgets/controls",
          "model_name": "ButtonStyleModel",
          "model_module_version": "1.5.0",
          "state": {
            "_model_module": "@jupyter-widgets/controls",
            "_model_module_version": "1.5.0",
            "_model_name": "ButtonStyleModel",
            "_view_count": null,
            "_view_module": "@jupyter-widgets/base",
            "_view_module_version": "1.2.0",
            "_view_name": "StyleView",
            "button_color": null,
            "font_weight": ""
          }
        },
        "cc959674345e4549921859be744abde5": {
          "model_module": "@jupyter-widgets/base",
          "model_name": "LayoutModel",
          "model_module_version": "1.2.0",
          "state": {
            "_model_module": "@jupyter-widgets/base",
            "_model_module_version": "1.2.0",
            "_model_name": "LayoutModel",
            "_view_count": null,
            "_view_module": "@jupyter-widgets/base",
            "_view_module_version": "1.2.0",
            "_view_name": "LayoutView",
            "align_content": null,
            "align_items": null,
            "align_self": null,
            "border": null,
            "bottom": null,
            "display": null,
            "flex": null,
            "flex_flow": null,
            "grid_area": null,
            "grid_auto_columns": null,
            "grid_auto_flow": null,
            "grid_auto_rows": null,
            "grid_column": null,
            "grid_gap": null,
            "grid_row": null,
            "grid_template_areas": null,
            "grid_template_columns": null,
            "grid_template_rows": null,
            "height": null,
            "justify_content": null,
            "justify_items": null,
            "left": null,
            "margin": null,
            "max_height": null,
            "max_width": null,
            "min_height": null,
            "min_width": null,
            "object_fit": null,
            "object_position": null,
            "order": null,
            "overflow": null,
            "overflow_x": null,
            "overflow_y": null,
            "padding": null,
            "right": null,
            "top": null,
            "visibility": null,
            "width": null
          }
        },
        "1c449f9b812349af9464d3158c41dcf0": {
          "model_module": "@jupyter-widgets/controls",
          "model_name": "DescriptionStyleModel",
          "model_module_version": "1.5.0",
          "state": {
            "_model_module": "@jupyter-widgets/controls",
            "_model_module_version": "1.5.0",
            "_model_name": "DescriptionStyleModel",
            "_view_count": null,
            "_view_module": "@jupyter-widgets/base",
            "_view_module_version": "1.2.0",
            "_view_name": "StyleView",
            "description_width": ""
          }
        },
        "e7383e8cc4c7460a86de8e1c658db04b": {
          "model_module": "@jupyter-widgets/base",
          "model_name": "LayoutModel",
          "model_module_version": "1.2.0",
          "state": {
            "_model_module": "@jupyter-widgets/base",
            "_model_module_version": "1.2.0",
            "_model_name": "LayoutModel",
            "_view_count": null,
            "_view_module": "@jupyter-widgets/base",
            "_view_module_version": "1.2.0",
            "_view_name": "LayoutView",
            "align_content": null,
            "align_items": null,
            "align_self": null,
            "border": null,
            "bottom": null,
            "display": null,
            "flex": null,
            "flex_flow": null,
            "grid_area": null,
            "grid_auto_columns": null,
            "grid_auto_flow": null,
            "grid_auto_rows": null,
            "grid_column": null,
            "grid_gap": null,
            "grid_row": null,
            "grid_template_areas": null,
            "grid_template_columns": null,
            "grid_template_rows": null,
            "height": null,
            "justify_content": null,
            "justify_items": null,
            "left": null,
            "margin": null,
            "max_height": null,
            "max_width": null,
            "min_height": null,
            "min_width": null,
            "object_fit": null,
            "object_position": null,
            "order": null,
            "overflow": null,
            "overflow_x": null,
            "overflow_y": null,
            "padding": null,
            "right": null,
            "top": null,
            "visibility": null,
            "width": null
          }
        }
      }
    }
  },
  "nbformat": 4,
  "nbformat_minor": 0
}